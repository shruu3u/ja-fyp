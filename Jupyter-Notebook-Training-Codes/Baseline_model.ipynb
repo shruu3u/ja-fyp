{
 "cells": [
  {
   "cell_type": "code",
   "execution_count": 1,
   "id": "edeb7b8a-ebf5-4b4b-a363-002645137220",
   "metadata": {},
   "outputs": [
    {
     "name": "stderr",
     "output_type": "stream",
     "text": [
      "[nltk_data] Downloading package punkt to\n",
      "[nltk_data]     C:\\Users\\user\\AppData\\Roaming\\nltk_data...\n",
      "[nltk_data]   Package punkt is already up-to-date!\n",
      "[nltk_data] Downloading package stopwords to\n",
      "[nltk_data]     C:\\Users\\user\\AppData\\Roaming\\nltk_data...\n",
      "[nltk_data]   Package stopwords is already up-to-date!\n",
      "[nltk_data] Downloading package wordnet to\n",
      "[nltk_data]     C:\\Users\\user\\AppData\\Roaming\\nltk_data...\n",
      "[nltk_data]   Package wordnet is already up-to-date!\n",
      "[nltk_data] Downloading package omw-1.4 to\n",
      "[nltk_data]     C:\\Users\\user\\AppData\\Roaming\\nltk_data...\n",
      "[nltk_data]   Package omw-1.4 is already up-to-date!\n"
     ]
    },
    {
     "data": {
      "text/plain": [
       "True"
      ]
     },
     "execution_count": 1,
     "metadata": {},
     "output_type": "execute_result"
    }
   ],
   "source": [
    "# Import necessary libraries\n",
    "import pandas as pd\n",
    "import numpy as np\n",
    "import matplotlib.pyplot as plt\n",
    "import seaborn as sns\n",
    "from sklearn.model_selection import train_test_split\n",
    "from sklearn.feature_extraction.text import TfidfVectorizer\n",
    "from sklearn.ensemble import RandomForestClassifier\n",
    "from sklearn.linear_model import LogisticRegression\n",
    "from sklearn.metrics import classification_report, f1_score, confusion_matrix\n",
    "from imblearn.over_sampling import RandomOverSampler\n",
    "from sklearn.preprocessing import LabelEncoder\n",
    "from nltk.corpus import stopwords\n",
    "from nltk.tokenize import word_tokenize\n",
    "from nltk.stem import WordNetLemmatizer\n",
    "from sklearn.preprocessing import StandardScaler\n",
    "import re\n",
    "import nltk\n",
    "\n",
    "nltk.download('punkt')\n",
    "nltk.download('stopwords')\n",
    "nltk.download('wordnet')\n",
    "nltk.download('omw-1.4')"
   ]
  },
  {
   "cell_type": "markdown",
   "id": "634e791f-f5c9-484a-8a37-677314eb253c",
   "metadata": {},
   "source": [
    "## Data Preprocessing"
   ]
  },
  {
   "cell_type": "code",
   "execution_count": 2,
   "id": "acb6b46e-2b52-4e16-a114-ff8f3981c05f",
   "metadata": {},
   "outputs": [],
   "source": [
    "# Dataframe\n",
    "df = pd.read_csv(\"C:/Users/user/Downloads/tweet_emotions.csv/tweet_emotions.csv\")"
   ]
  },
  {
   "cell_type": "code",
   "execution_count": 3,
   "id": "144a0656-6f07-4433-803a-819f01454d2a",
   "metadata": {},
   "outputs": [
    {
     "name": "stdout",
     "output_type": "stream",
     "text": [
      "Number of NaN values in 'content' column: 0\n"
     ]
    }
   ],
   "source": [
    "nan_count = df['content'].isna().sum()\n",
    "print(f\"Number of NaN values in 'content' column: {nan_count}\")"
   ]
  },
  {
   "cell_type": "code",
   "execution_count": 4,
   "id": "8cf4bbb7-9eb3-49dd-b209-f528b128f23b",
   "metadata": {},
   "outputs": [
    {
     "data": {
      "text/plain": [
       "0"
      ]
     },
     "execution_count": 4,
     "metadata": {},
     "output_type": "execute_result"
    }
   ],
   "source": [
    "d = df.duplicated()\n",
    "d.sum()"
   ]
  },
  {
   "cell_type": "code",
   "execution_count": 5,
   "id": "ed41d4ba-67b6-4fbf-9651-aa7bcd30c99f",
   "metadata": {},
   "outputs": [
    {
     "name": "stdout",
     "output_type": "stream",
     "text": [
      "Dataset Info:\n",
      "\n",
      "<class 'pandas.core.frame.DataFrame'>\n",
      "RangeIndex: 40000 entries, 0 to 39999\n",
      "Data columns (total 3 columns):\n",
      " #   Column     Non-Null Count  Dtype \n",
      "---  ------     --------------  ----- \n",
      " 0   tweet_id   40000 non-null  int64 \n",
      " 1   sentiment  40000 non-null  object\n",
      " 2   content    40000 non-null  object\n",
      "dtypes: int64(1), object(2)\n",
      "memory usage: 937.6+ KB\n",
      "None\n",
      "\n",
      "Class Distribution:\n",
      "\n",
      "sentiment\n",
      "neutral       8638\n",
      "worry         8459\n",
      "happiness     5209\n",
      "sadness       5165\n",
      "love          3842\n",
      "surprise      2187\n",
      "fun           1776\n",
      "relief        1526\n",
      "hate          1323\n",
      "empty          827\n",
      "enthusiasm     759\n",
      "boredom        179\n",
      "anger          110\n",
      "Name: count, dtype: int64\n"
     ]
    }
   ],
   "source": [
    "# Function to display information about the dataset\n",
    "def display_info(df):\n",
    "    print(\"Dataset Info:\\n\")\n",
    "    print(df.info())\n",
    "    print(\"\\nClass Distribution:\\n\")\n",
    "    print(df['sentiment'].value_counts())\n",
    "\n",
    "display_info(df)"
   ]
  },
  {
   "cell_type": "code",
   "execution_count": 6,
   "id": "61062a53-61e5-4ad1-a9ea-ffbe60e235ef",
   "metadata": {},
   "outputs": [],
   "source": [
    "# Encode labels\n",
    "label_encoder = LabelEncoder()\n",
    "df['sentiment_encoded'] = label_encoder.fit_transform(df['sentiment'])\n"
   ]
  },
  {
   "cell_type": "code",
   "execution_count": 7,
   "id": "78730ff0-b286-4cda-90f7-9f310f66e84c",
   "metadata": {},
   "outputs": [
    {
     "name": "stderr",
     "output_type": "stream",
     "text": [
      "[nltk_data] Downloading package stopwords to\n",
      "[nltk_data]     C:\\Users\\user\\AppData\\Roaming\\nltk_data...\n",
      "[nltk_data]   Package stopwords is already up-to-date!\n",
      "[nltk_data] Downloading package punkt to\n",
      "[nltk_data]     C:\\Users\\user\\AppData\\Roaming\\nltk_data...\n",
      "[nltk_data]   Package punkt is already up-to-date!\n",
      "[nltk_data] Downloading package wordnet to\n",
      "[nltk_data]     C:\\Users\\user\\AppData\\Roaming\\nltk_data...\n",
      "[nltk_data]   Package wordnet is already up-to-date!\n"
     ]
    }
   ],
   "source": [
    "import re\n",
    "import nltk\n",
    "from nltk.corpus import stopwords\n",
    "from nltk.tokenize import word_tokenize\n",
    "from nltk.stem import WordNetLemmatizer\n",
    "\n",
    "nltk.download('stopwords')\n",
    "nltk.download('punkt')\n",
    "nltk.download('wordnet')\n",
    "\n",
    "lemmatizer_obj = WordNetLemmatizer()\n",
    "stop_words = set(stopwords.words('english'))\n",
    "\n",
    "# Cleaning function\n",
    "def clean_text(text):\n",
    "    if pd.isnull(text):\n",
    "        return \"\"\n",
    "    text = str(text).lower()\n",
    "    text = re.sub(r'@[\\w]*', '', text)\n",
    "    text = re.sub(r'https?://\\S+|www\\.\\S+', '', text)\n",
    "    text = re.sub(r'[^a-zA-Z\\s]', '', text)\n",
    "    text = re.sub(r'\\s+', ' ', text).strip()\n",
    "    return text\n",
    "\n",
    "# Lemmatizer\n",
    "def lemmatizer(text):\n",
    "    if not text or not isinstance(text, str):\n",
    "        return \"\"\n",
    "    tokens = word_tokenize(text)\n",
    "    lemmatized = [lemmatizer_obj.lemmatize(word) for word in tokens if word not in stop_words]\n",
    "    return ' '.join(lemmatized).strip()\n",
    "\n",
    "# Drop rows where 'content' is NaN first\n",
    "df = df.dropna(subset=['content']).copy()\n",
    "\n",
    "# Clean and lemmatize\n",
    "df['cleaned_text'] = df['content'].apply(clean_text).apply(lemmatizer)\n",
    "\n",
    "# Drop any resulting NaNs or empty strings in cleaned_text\n",
    "df = df[df['cleaned_text'].str.strip().astype(bool)].copy()\n"
   ]
  },
  {
   "cell_type": "code",
   "execution_count": 8,
   "id": "6ab27fbc-4580-4cb3-a902-35b4eaea742a",
   "metadata": {},
   "outputs": [
    {
     "name": "stdout",
     "output_type": "stream",
     "text": [
      "Remaining samples: 39785\n",
      "Example cleaned text: know listenin bad habit earlier started freakin part\n"
     ]
    }
   ],
   "source": [
    "print(\"Remaining samples:\", len(df))\n",
    "print(\"Example cleaned text:\", df['cleaned_text'].iloc[0])"
   ]
  },
  {
   "cell_type": "code",
   "execution_count": 9,
   "id": "0f006e4d-7629-4770-b208-af4791b1854f",
   "metadata": {},
   "outputs": [
    {
     "data": {
      "image/png": "[encoded data removed]",
      "text/plain": [
       "<Figure size 1000x600 with 1 Axes>"
      ]
     },
     "metadata": {},
     "output_type": "display_data"
    }
   ],
   "source": [
    "# Graph plotting on Class Distribution\n",
    "plt.figure(figsize=(10, 6))\n",
    "sns.countplot(data=df, y='sentiment', order=df['sentiment'].value_counts().index)\n",
    "plt.title(\"Class Distribution\")\n",
    "plt.show()"
   ]
  },
  {
   "cell_type": "code",
   "execution_count": 10,
   "id": "dfaabd45-f9a3-4564-be99-192beb03590a",
   "metadata": {},
   "outputs": [],
   "source": [
    "# Oversampling and splitting data\n",
    "\n",
    "X = df['cleaned_text']\n",
    "y = df['sentiment_encoded']\n",
    "\n",
    "\n",
    "\n",
    "oversampler = RandomOverSampler(random_state=42)\n",
    "X_resampled_df, y_resampled = oversampler.fit_resample(X.values.reshape(-1,1), y)\n",
    "X_resampled = X_resampled_df.flatten() \n",
    "\n",
    "\n",
    "X_train, X_temp, y_train, y_temp = train_test_split(X_resampled, y_resampled, test_size=0.3, stratify=y_resampled, random_state=42)\n",
    "\n",
    "X_val, X_test, y_val, y_test = train_test_split(X_temp, y_temp, test_size=0.5, stratify=y_temp, random_state=42)\n"
   ]
  },
  {
   "cell_type": "code",
   "execution_count": 11,
   "id": "816fe10f-d88d-4c1c-ad37-866aba9bec21",
   "metadata": {},
   "outputs": [],
   "source": [
    "# Feature Extraction using TF-IDF\n",
    "tfidf = TfidfVectorizer(max_features=10000, ngram_range=(1, 2))\n",
    "X_train_tfidf = tfidf.fit_transform(X_train)\n",
    "X_val_tfidf = tfidf.transform(X_val)\n",
    "X_test_tfidf = tfidf.transform(X_test)"
   ]
  },
  {
   "cell_type": "code",
   "execution_count": 12,
   "id": "a8ce954f-fda1-49f7-95a3-fbe16c213027",
   "metadata": {},
   "outputs": [],
   "source": [
    "scaler = StandardScaler(with_mean=False)  # with_mean=False for sparse data like TF-IDF\n",
    "X_train_scaled = scaler.fit_transform(X_train_tfidf)\n",
    "X_val_scaled = scaler.transform(X_val_tfidf)\n",
    "X_test_scaled = scaler.transform(X_test_tfidf)"
   ]
  },
  {
   "cell_type": "markdown",
   "id": "b9bd0841-65da-43cf-99cf-358797e72164",
   "metadata": {},
   "source": [
    "## Baseline Models"
   ]
  },
  {
   "cell_type": "code",
   "execution_count": 13,
   "id": "5afba598-d855-4628-9cf3-e30ef663493a",
   "metadata": {},
   "outputs": [
    {
     "name": "stdout",
     "output_type": "stream",
     "text": [
      "Logistic Regression Weighted F1-Score: 0.7254\n",
      "Logistic Regression Performance:\n",
      "              precision    recall  f1-score   support\n",
      "\n",
      "       anger       1.00      1.00      1.00      1275\n",
      "     boredom       1.00      1.00      1.00      1275\n",
      "       empty       0.86      0.97      0.92      1275\n",
      "  enthusiasm       0.88      0.97      0.92      1276\n",
      "         fun       0.76      0.91      0.83      1276\n",
      "   happiness       0.59      0.51      0.55      1275\n",
      "        hate       0.82      0.97      0.89      1276\n",
      "        love       0.66      0.67      0.67      1275\n",
      "     neutral       0.32      0.23      0.27      1275\n",
      "      relief       0.76      0.90      0.83      1275\n",
      "     sadness       0.60      0.53      0.56      1276\n",
      "    surprise       0.71      0.80      0.75      1275\n",
      "       worry       0.33      0.20      0.25      1275\n",
      "\n",
      "    accuracy                           0.74     16579\n",
      "   macro avg       0.72      0.74      0.73     16579\n",
      "weighted avg       0.72      0.74      0.73     16579\n",
      "\n"
     ]
    },
    {
     "name": "stderr",
     "output_type": "stream",
     "text": [
      "C:\\Users\\user\\anaconda3\\Lib\\site-packages\\sklearn\\linear_model\\_logistic.py:458: ConvergenceWarning: lbfgs failed to converge (status=1):\n",
      "STOP: TOTAL NO. of ITERATIONS REACHED LIMIT.\n",
      "\n",
      "Increase the number of iterations (max_iter) or scale the data as shown in:\n",
      "    https://scikit-learn.org/stable/modules/preprocessing.html\n",
      "Please also refer to the documentation for alternative solver options:\n",
      "    https://scikit-learn.org/stable/modules/linear_model.html#logistic-regression\n",
      "  n_iter_i = _check_optimize_result(\n"
     ]
    }
   ],
   "source": [
    "from sklearn.linear_model import LogisticRegression\n",
    "from sklearn.metrics import f1_score, classification_report\n",
    "\n",
    "# Initializing and training the Logistic Regression model\n",
    "lr_model = LogisticRegression(max_iter=1000, random_state=42)\n",
    "lr_model.fit(X_train_scaled, y_train)\n",
    "\n",
    "# Make predictions on the test set\n",
    "y_lr_test_pred = lr_model.predict(X_test_scaled)\n",
    "\n",
    "# Calculate the weighted F1-Score\n",
    "lr_test_f1 = f1_score(y_test, y_lr_test_pred, average='weighted')\n",
    "print(f\"Logistic Regression Weighted F1-Score: {lr_test_f1:.4f}\")\n",
    "\n",
    "# Display the classification report\n",
    "lr_test_report = classification_report(y_test, y_lr_test_pred, target_names=label_encoder.classes_)\n",
    "print(\"Logistic Regression Performance:\")\n",
    "print(lr_test_report)\n"
   ]
  },
  {
   "cell_type": "code",
   "execution_count": 14,
   "id": "63eff518-9223-41cf-b00f-16d85c6ff945",
   "metadata": {
    "scrolled": true
   },
   "outputs": [
    {
     "name": "stdout",
     "output_type": "stream",
     "text": [
      "Random Forest Weighted F1-Score: 0.8093\n",
      "Random Forest Performance:\n",
      "              precision    recall  f1-score   support\n",
      "\n",
      "       anger       1.00      1.00      1.00      1275\n",
      "     boredom       0.99      1.00      1.00      1275\n",
      "       empty       0.92      0.98      0.95      1275\n",
      "  enthusiasm       0.93      0.98      0.96      1276\n",
      "         fun       0.89      0.96      0.93      1276\n",
      "   happiness       0.68      0.63      0.65      1275\n",
      "        hate       0.91      0.98      0.94      1276\n",
      "        love       0.79      0.83      0.81      1275\n",
      "     neutral       0.42      0.41      0.42      1275\n",
      "      relief       0.88      0.96      0.92      1275\n",
      "     sadness       0.70      0.65      0.68      1276\n",
      "    surprise       0.88      0.91      0.90      1275\n",
      "       worry       0.46      0.33      0.38      1275\n",
      "\n",
      "    accuracy                           0.82     16579\n",
      "   macro avg       0.80      0.82      0.81     16579\n",
      "weighted avg       0.80      0.82      0.81     16579\n",
      "\n"
     ]
    }
   ],
   "source": [
    "from sklearn.ensemble import RandomForestClassifier\n",
    "from sklearn.metrics import f1_score, classification_report\n",
    "\n",
    "# Initializing and training the Random Forest Classifier\n",
    "rf_model = RandomForestClassifier(n_estimators=100, random_state=42)\n",
    "rf_model.fit(X_train_tfidf, y_train)\n",
    "\n",
    "# Make predictions on the test set\n",
    "y_rf_test_pred = rf_model.predict(X_test_tfidf)\n",
    "\n",
    "# Calculate the weighted F1-Score\n",
    "rf_test_f1 = f1_score(y_test, y_rf_test_pred, average='weighted')\n",
    "print(f\"Random Forest Weighted F1-Score: {rf_test_f1:.4f}\")\n",
    "\n",
    "# Display the classification report\n",
    "rf_test_report = classification_report(y_test, y_rf_test_pred, target_names=label_encoder.classes_)\n",
    "print(\"Random Forest Performance:\")\n",
    "print(rf_test_report)\n"
   ]
  },
  {
   "cell_type": "markdown",
   "id": "155f7793-dc29-401c-a81c-0eb508a88ca9",
   "metadata": {},
   "source": [
    "## Evaluation"
   ]
  },
  {
   "cell_type": "code",
   "execution_count": 15,
   "id": "3674b4b1-29b2-43de-902d-2e65bc513a6b",
   "metadata": {},
   "outputs": [
    {
     "name": "stdout",
     "output_type": "stream",
     "text": [
      "                 Model  Test Weighted F1-Score\n",
      "0  Logistic Regression                0.725358\n",
      "1        Random Forest                0.809305\n"
     ]
    }
   ],
   "source": [
    "# Compare Results\n",
    "results = {\n",
    "    \"Model\": [\"Logistic Regression\", \"Random Forest\"],\n",
    "    \"Test Weighted F1-Score\": [lr_test_f1, rf_test_f1]\n",
    "}\n",
    "results_df = pd.DataFrame(results)\n",
    "print(results_df)\n"
   ]
  },
  {
   "cell_type": "code",
   "execution_count": 16,
   "id": "1e571379-80ff-4e74-b0ad-92db7208c6ad",
   "metadata": {},
   "outputs": [
    {
     "data": {
      "image/png": "[encoded data removed]",
      "text/plain": [
       "<Figure size 800x600 with 1 Axes>"
      ]
     },
     "metadata": {},
     "output_type": "display_data"
    }
   ],
   "source": [
    "# Bar graph of Overall Performance\n",
    "plt.figure(figsize=(8, 6))\n",
    "plt.bar(results_df['Model'], results_df['Test Weighted F1-Score'])\n",
    "plt.title(\"Model Comparison: Weighted F1-Score\")\n",
    "plt.ylabel(\"Weighted F1-Score\")\n",
    "plt.show()"
   ]
  }
 ],
 "metadata": {
  "kernelspec": {
   "display_name": "Python 3 (ipykernel)",
   "language": "python",
   "name": "python3"
  },
  "language_info": {
   "codemirror_mode": {
    "name": "ipython",
    "version": 3
   },
   "file_extension": ".py",
   "mimetype": "text/x-python",
   "name": "python",
   "nbconvert_exporter": "python",
   "pygments_lexer": "ipython3",
   "version": "3.11.7"
  }
 },
 "nbformat": 4,
 "nbformat_minor": 5
}
