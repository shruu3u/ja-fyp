{
 "cells": [
  {
   "cell_type": "code",
   "execution_count": null,
   "id": "c5e70415-1ab1-4615-9721-5f2af2370c9c",
   "metadata": {},
   "outputs": [
    {
     "name": "stdout",
     "output_type": "stream",
     "text": [
      "Enter up to 5 texts to analyze. Type 'exit' to stop early.\n",
      "\n"
     ]
    }
   ],
   "source": [
    "import numpy as np\n",
    "from tensorflow.keras.models import load_model\n",
    "from tensorflow.keras.preprocessing.sequence import pad_sequences\n",
    "import pickle\n",
    "\n",
    "# Load model\n",
    "model = load_model(\"Best_model1.keras\")\n",
    "\n",
    "# Load tokenizer\n",
    "with open(\"BestTokenizer1.pkl\", \"rb\") as handle:\n",
    "    tokenizer = pickle.load(handle)\n",
    "\n",
    "# Load label encoder\n",
    "with open(\"BestLabelEncoder.pkl\", \"rb\") as file:\n",
    "    label_encoder = pickle.load(file)\n",
    "\n",
    "# Set same max length used during training\n",
    "MAX_SEQUENCE_LENGTH = 100\n",
    "\n",
    "# Prediction function\n",
    "def predict_text(input_text):\n",
    "    if isinstance(input_text, str):\n",
    "        input_text = [input_text]\n",
    "\n",
    "    sequences = tokenizer.texts_to_sequences(input_text)\n",
    "    padded = pad_sequences(sequences, maxlen=MAX_SEQUENCE_LENGTH, padding='post')\n",
    "    predictions = model.predict(padded)\n",
    "    predicted_indices = np.argmax(predictions, axis=1)\n",
    "    predicted_labels = label_encoder.inverse_transform(predicted_indices)\n",
    "\n",
    "    for i, text in enumerate(input_text):\n",
    "        confidence = np.max(predictions[i]) * 100\n",
    "        print(f\"\\nInput: {text}\")\n",
    "        print(f\"Prediction: {predicted_labels[i]} ({confidence:.2f}% confidence)\")\n",
    "        print(\"—\" * 50)\n",
    "\n",
    "# Loop: Ask for input 5 times or until 'exit'\n",
    "print(\"Enter up to 5 texts to analyze. Type 'exit' to stop early.\\n\")\n",
    "\n",
    "for i in range(5):\n",
    "    user_input = input(f\"[{i+1}/5] 💬 Enter your text: \").strip()\n",
    "    if user_input.lower() == \"exit\":\n",
    "        print(\"Exiting input loop.\")\n",
    "        break\n",
    "    elif user_input:\n",
    "        predict_text(user_input)\n",
    "    else:\n",
    "        print(\"Empty input, please try again.\")\n"
   ]
  }
 ],
 "metadata": {
  "kernelspec": {
   "display_name": "Python 3 (ipykernel)",
   "language": "python",
   "name": "python3"
  },
  "language_info": {
   "codemirror_mode": {
    "name": "ipython",
    "version": 3
   },
   "file_extension": ".py",
   "mimetype": "text/x-python",
   "name": "python",
   "nbconvert_exporter": "python",
   "pygments_lexer": "ipython3",
   "version": "3.11.7"
  }
 },
 "nbformat": 4,
 "nbformat_minor": 5
}
