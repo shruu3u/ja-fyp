{
 "cells": [
  {
   "cell_type": "code",
   "execution_count": 1,
   "id": "a3259737-4837-4938-be5f-058cbd08babb",
   "metadata": {},
   "outputs": [],
   "source": [
    "# Import Libraries\n",
    "import pandas as pd\n",
    "import numpy as np\n",
    "import re\n",
    "import nltk\n",
    "from nltk.corpus import stopwords\n",
    "from nltk.tokenize import word_tokenize\n",
    "from nltk.stem import WordNetLemmatizer\n",
    "from sklearn.model_selection import train_test_split\n",
    "from sklearn.preprocessing import LabelEncoder\n",
    "from imblearn.over_sampling import RandomOverSampler\n",
    "from tensorflow.keras.preprocessing.text import Tokenizer\n",
    "from tensorflow.keras.preprocessing.sequence import pad_sequences\n",
    "from tensorflow.keras.models import Sequential\n",
    "from tensorflow.keras.layers import Embedding, LSTM, Dense, Dropout\n",
    "from tensorflow.keras.callbacks import EarlyStopping\n",
    "from sklearn.metrics import classification_report, f1_score\n"
   ]
  },
  {
   "cell_type": "code",
   "execution_count": 2,
   "id": "7a846a79-6c45-4c16-a49a-c3981c83dd28",
   "metadata": {},
   "outputs": [
    {
     "name": "stderr",
     "output_type": "stream",
     "text": [
      "[nltk_data] Downloading package punkt to\n",
      "[nltk_data]     C:\\Users\\user\\AppData\\Roaming\\nltk_data...\n",
      "[nltk_data]   Package punkt is already up-to-date!\n",
      "[nltk_data] Downloading package stopwords to\n",
      "[nltk_data]     C:\\Users\\user\\AppData\\Roaming\\nltk_data...\n",
      "[nltk_data]   Package stopwords is already up-to-date!\n",
      "[nltk_data] Downloading package wordnet to\n",
      "[nltk_data]     C:\\Users\\user\\AppData\\Roaming\\nltk_data...\n",
      "[nltk_data]   Package wordnet is already up-to-date!\n"
     ]
    },
    {
     "data": {
      "text/plain": [
       "True"
      ]
     },
     "execution_count": 2,
     "metadata": {},
     "output_type": "execute_result"
    }
   ],
   "source": [
    "# Download NLTK Resources\n",
    "nltk.download('punkt')\n",
    "nltk.download('stopwords')\n",
    "nltk.download('wordnet')"
   ]
  },
  {
   "cell_type": "code",
   "execution_count": 3,
   "id": "993b04cf-fe3f-42f2-a117-40a5ab4e1756",
   "metadata": {},
   "outputs": [],
   "source": [
    "# Load & Preprocess Data\n",
    "df = pd.read_csv(\"C:/Users/user/Downloads/tweet_emotions.csv/tweet_emotions.csv\")\n",
    "\n",
    "# Encode labels\n",
    "le = LabelEncoder()\n",
    "df['sentiment_encoded'] = le.fit_transform(df['sentiment'])\n",
    "\n",
    "# Cleaning functions\n",
    "lemmatizer_obj = WordNetLemmatizer()\n",
    "stop_words = set(stopwords.words('english'))\n",
    "\n",
    "def clean_text(text):\n",
    "    if pd.isnull(text):\n",
    "        return \"\"\n",
    "    text = str(text).lower()\n",
    "    text = re.sub(r'@[\\w]*', '', text)\n",
    "    text = re.sub(r'https?://\\S+|www\\.\\S+', '', text)\n",
    "    text = re.sub(r'[^a-zA-Z\\s]', '', text)\n",
    "    text = re.sub(r'\\s+', ' ', text).strip()\n",
    "    return text\n",
    "\n",
    "def lemmatizer(text):\n",
    "    tokens = word_tokenize(text)\n",
    "    lemmatized = [lemmatizer_obj.lemmatize(word) for word in tokens if word not in stop_words]\n",
    "    return ' '.join(lemmatized).strip()\n",
    "\n",
    "df['cleaned_text'] = df['content'].apply(clean_text).apply(lemmatizer)\n",
    "df = df[df['cleaned_text'].str.strip().astype(bool)].copy()\n"
   ]
  },
  {
   "cell_type": "code",
   "execution_count": 4,
   "id": "459c3260-c3b6-4eb8-8fa6-3ec968d1695b",
   "metadata": {},
   "outputs": [],
   "source": [
    "# Balance the Classes\n",
    "\n",
    "X = df['cleaned_text'].astype(str)\n",
    "y = df['sentiment_encoded']\n",
    "\n",
    "X_df = pd.DataFrame({'text': X})\n",
    "y_df = pd.Series(y)\n",
    "\n",
    "oversampler = RandomOverSampler(random_state=42)\n",
    "X_resampled_df, y_resampled = oversampler.fit_resample(X_df, y_df)\n",
    "\n",
    "X = X_resampled_df['text']\n",
    "y = y_resampled\n"
   ]
  },
  {
   "cell_type": "code",
   "execution_count": 5,
   "id": "c06ad2a9-1842-4ed2-9d7a-5925846a4735",
   "metadata": {},
   "outputs": [],
   "source": [
    "# Train/Validation/Test Split\n",
    "X_train, X_temp, y_train, y_temp = train_test_split(X, y, test_size=0.3, stratify=y, random_state=42)\n",
    "X_val, X_test, y_val, y_test = train_test_split(X_temp, y_temp, test_size=0.5, stratify=y_temp, random_state=42)"
   ]
  },
  {
   "cell_type": "code",
   "execution_count": 6,
   "id": "6811f6e7-cc9a-452f-ad4b-dcfb19ce0671",
   "metadata": {},
   "outputs": [],
   "source": [
    "# Tokenization & Padding\n",
    "max_vocab_size = 10000\n",
    "max_sequence_length = 100\n",
    "\n",
    "tokenizer = Tokenizer(num_words=max_vocab_size, oov_token=\"<OOV>\")\n",
    "tokenizer.fit_on_texts(X_train)\n",
    "\n",
    "X_train_seq = tokenizer.texts_to_sequences(X_train)\n",
    "X_val_seq = tokenizer.texts_to_sequences(X_val)\n",
    "X_test_seq = tokenizer.texts_to_sequences(X_test)\n",
    "\n",
    "X_train_pad = pad_sequences(X_train_seq, maxlen=max_sequence_length, padding='post')\n",
    "X_val_pad = pad_sequences(X_val_seq, maxlen=max_sequence_length, padding='post')\n",
    "X_test_pad = pad_sequences(X_test_seq, maxlen=max_sequence_length, padding='post')\n"
   ]
  },
  {
   "cell_type": "code",
   "execution_count": 7,
   "id": "869094d4-3f5d-4e04-88e9-122c26310898",
   "metadata": {},
   "outputs": [
    {
     "name": "stdout",
     "output_type": "stream",
     "text": [
      "Loaded 400000 word vectors.\n"
     ]
    }
   ],
   "source": [
    "# Load GloVe 300D Embeddings\n",
    "\n",
    "embedding_index = {}\n",
    "with open(\"glove.6B.300d.txt\", encoding=\"utf-8\") as f:  \n",
    "    for line in f:\n",
    "        values = line.split()\n",
    "        word = values[0]\n",
    "        coeffs = np.asarray(values[1:], dtype=\"float32\")\n",
    "        embedding_index[word] = coeffs\n",
    "\n",
    "print(f\"Loaded {len(embedding_index)} word vectors.\")\n",
    "\n",
    "embedding_dim = 300  # 300D GloVe\n",
    "vocab_size = min(max_vocab_size, len(tokenizer.word_index) + 1)\n",
    "\n",
    "embedding_matrix = np.zeros((vocab_size, embedding_dim))\n",
    "for word, i in tokenizer.word_index.items():\n",
    "    if i >= vocab_size:\n",
    "        continue\n",
    "    embedding_vector = embedding_index.get(word)\n",
    "    if embedding_vector is not None:\n",
    "        embedding_matrix[i] = embedding_vector\n"
   ]
  },
  {
   "cell_type": "code",
   "execution_count": 8,
   "id": "aea4a228-d57e-4eb5-95e5-ad6326c75a9d",
   "metadata": {},
   "outputs": [
    {
     "name": "stderr",
     "output_type": "stream",
     "text": [
      "C:\\Users\\user\\anaconda3\\Lib\\site-packages\\keras\\src\\layers\\core\\embedding.py:90: UserWarning: Argument `input_length` is deprecated. Just remove it.\n",
      "  warnings.warn(\n"
     ]
    }
   ],
   "source": [
    "# Build model \n",
    "from tensorflow.keras.layers import Bidirectional\n",
    "\n",
    "model = Sequential([\n",
    "      Embedding(input_dim=vocab_size, output_dim=300,  # Keep 300D GloVe for better semantics\n",
    "              weights=[embedding_matrix], input_length=max_sequence_length, trainable=True),\n",
    "    \n",
    "      Bidirectional(LSTM(128, dropout=0.3, recurrent_dropout=0.3)),\n",
    "      Dense(64, activation='relu'),\n",
    "      Dropout(0.4),\n",
    "      Dense(len(le.classes_), activation='softmax')\n",
    "])"
   ]
  },
  {
   "cell_type": "code",
   "execution_count": 9,
   "id": "8a5153d2-5bcd-4c8e-9246-bebfc2d7637c",
   "metadata": {},
   "outputs": [
    {
     "name": "stdout",
     "output_type": "stream",
     "text": [
      "Epoch 1/30\n",
      "\u001b[1m1209/1209\u001b[0m \u001b[32m━━━━━━━━━━━━━━━━━━━━\u001b[0m\u001b[37m\u001b[0m \u001b[1m502s\u001b[0m 407ms/step - accuracy: 0.2650 - loss: 2.1471 - val_accuracy: 0.5155 - val_loss: 1.4241\n",
      "Epoch 2/30\n",
      "\u001b[1m1209/1209\u001b[0m \u001b[32m━━━━━━━━━━━━━━━━━━━━\u001b[0m\u001b[37m\u001b[0m \u001b[1m527s\u001b[0m 436ms/step - accuracy: 0.5485 - loss: 1.3484 - val_accuracy: 0.6108 - val_loss: 1.1356\n",
      "Epoch 3/30\n",
      "\u001b[1m1209/1209\u001b[0m \u001b[32m━━━━━━━━━━━━━━━━━━━━\u001b[0m\u001b[37m\u001b[0m \u001b[1m478s\u001b[0m 396ms/step - accuracy: 0.6374 - loss: 1.0727 - val_accuracy: 0.6567 - val_loss: 1.0009\n",
      "Epoch 4/30\n",
      "\u001b[1m1209/1209\u001b[0m \u001b[32m━━━━━━━━━━━━━━━━━━━━\u001b[0m\u001b[37m\u001b[0m \u001b[1m575s\u001b[0m 475ms/step - accuracy: 0.6865 - loss: 0.9175 - val_accuracy: 0.6877 - val_loss: 0.9127\n",
      "Epoch 5/30\n",
      "\u001b[1m1209/1209\u001b[0m \u001b[32m━━━━━━━━━━━━━━━━━━━━\u001b[0m\u001b[37m\u001b[0m \u001b[1m686s\u001b[0m 568ms/step - accuracy: 0.7222 - loss: 0.8040 - val_accuracy: 0.7117 - val_loss: 0.8507\n",
      "Epoch 6/30\n",
      "\u001b[1m1209/1209\u001b[0m \u001b[32m━━━━━━━━━━━━━━━━━━━━\u001b[0m\u001b[37m\u001b[0m \u001b[1m393s\u001b[0m 325ms/step - accuracy: 0.7515 - loss: 0.7137 - val_accuracy: 0.7315 - val_loss: 0.8017\n",
      "Epoch 7/30\n",
      "\u001b[1m1209/1209\u001b[0m \u001b[32m━━━━━━━━━━━━━━━━━━━━\u001b[0m\u001b[37m\u001b[0m \u001b[1m416s\u001b[0m 344ms/step - accuracy: 0.7740 - loss: 0.6433 - val_accuracy: 0.7459 - val_loss: 0.7691\n",
      "Epoch 8/30\n",
      "\u001b[1m1209/1209\u001b[0m \u001b[32m━━━━━━━━━━━━━━━━━━━━\u001b[0m\u001b[37m\u001b[0m \u001b[1m333s\u001b[0m 275ms/step - accuracy: 0.7934 - loss: 0.5913 - val_accuracy: 0.7593 - val_loss: 0.7560\n",
      "Epoch 9/30\n",
      "\u001b[1m1209/1209\u001b[0m \u001b[32m━━━━━━━━━━━━━━━━━━━━\u001b[0m\u001b[37m\u001b[0m \u001b[1m457s\u001b[0m 378ms/step - accuracy: 0.8094 - loss: 0.5385 - val_accuracy: 0.7709 - val_loss: 0.7228\n",
      "Epoch 10/30\n",
      "\u001b[1m1209/1209\u001b[0m \u001b[32m━━━━━━━━━━━━━━━━━━━━\u001b[0m\u001b[37m\u001b[0m \u001b[1m525s\u001b[0m 434ms/step - accuracy: 0.8268 - loss: 0.4957 - val_accuracy: 0.7771 - val_loss: 0.7275\n",
      "Epoch 11/30\n",
      "\u001b[1m1209/1209\u001b[0m \u001b[32m━━━━━━━━━━━━━━━━━━━━\u001b[0m\u001b[37m\u001b[0m \u001b[1m415s\u001b[0m 343ms/step - accuracy: 0.8381 - loss: 0.4614 - val_accuracy: 0.7855 - val_loss: 0.7398\n",
      "Epoch 12/30\n",
      "\u001b[1m1209/1209\u001b[0m \u001b[32m━━━━━━━━━━━━━━━━━━━━\u001b[0m\u001b[37m\u001b[0m \u001b[1m477s\u001b[0m 395ms/step - accuracy: 0.8507 - loss: 0.4262 - val_accuracy: 0.7903 - val_loss: 0.7444\n",
      "Epoch 13/30\n",
      "\u001b[1m1209/1209\u001b[0m \u001b[32m━━━━━━━━━━━━━━━━━━━━\u001b[0m\u001b[37m\u001b[0m \u001b[1m526s\u001b[0m 435ms/step - accuracy: 0.8581 - loss: 0.4027 - val_accuracy: 0.7961 - val_loss: 0.7496\n",
      "Epoch 14/30\n",
      "\u001b[1m1209/1209\u001b[0m \u001b[32m━━━━━━━━━━━━━━━━━━━━\u001b[0m\u001b[37m\u001b[0m \u001b[1m531s\u001b[0m 439ms/step - accuracy: 0.8666 - loss: 0.3791 - val_accuracy: 0.7996 - val_loss: 0.7581\n",
      "Epoch 15/30\n",
      "\u001b[1m1209/1209\u001b[0m \u001b[32m━━━━━━━━━━━━━━━━━━━━\u001b[0m\u001b[37m\u001b[0m \u001b[1m533s\u001b[0m 441ms/step - accuracy: 0.8744 - loss: 0.3600 - val_accuracy: 0.8023 - val_loss: 0.7852\n",
      "Epoch 16/30\n",
      "\u001b[1m1209/1209\u001b[0m \u001b[32m━━━━━━━━━━━━━━━━━━━━\u001b[0m\u001b[37m\u001b[0m \u001b[1m543s\u001b[0m 449ms/step - accuracy: 0.8818 - loss: 0.3417 - val_accuracy: 0.8051 - val_loss: 0.7979\n"
     ]
    }
   ],
   "source": [
    "# Train the Model\n",
    "es = EarlyStopping(monitor='val_loss', patience=7, restore_best_weights=True)\n",
    "\n",
    "# Compile the model \n",
    "model.compile(\n",
    "    loss='sparse_categorical_crossentropy',\n",
    "    optimizer='adam',\n",
    "    metrics=['accuracy']\n",
    ")\n",
    "\n",
    "# Train the model\n",
    "history = model.fit(\n",
    "    X_train_pad, y_train,\n",
    "    validation_data=(X_val_pad, y_val),\n",
    "    epochs= 30,\n",
    "    batch_size=64,\n",
    "    callbacks=[es]\n",
    ")\n"
   ]
  },
  {
   "cell_type": "code",
   "execution_count": 10,
   "id": "941da650-c3b1-4fa8-92d1-f47e16353cce",
   "metadata": {},
   "outputs": [
    {
     "name": "stdout",
     "output_type": "stream",
     "text": [
      "\u001b[1m519/519\u001b[0m \u001b[32m━━━━━━━━━━━━━━━━━━━━\u001b[0m\u001b[37m\u001b[0m \u001b[1m35s\u001b[0m 65ms/step\n",
      "Weighted F1-score: 0.7568\n",
      "\n",
      "Classification Report:\n",
      "              precision    recall  f1-score   support\n",
      "\n",
      "       anger       1.00      1.00      1.00      1275\n",
      "     boredom       0.99      1.00      0.99      1276\n",
      "       empty       0.90      0.98      0.94      1276\n",
      "  enthusiasm       0.94      0.98      0.96      1275\n",
      "         fun       0.82      0.91      0.86      1275\n",
      "   happiness       0.53      0.54      0.54      1275\n",
      "        hate       0.91      0.97      0.94      1275\n",
      "        love       0.68      0.72      0.70      1276\n",
      "     neutral       0.43      0.29      0.35      1275\n",
      "      relief       0.85      0.94      0.89      1275\n",
      "     sadness       0.53      0.61      0.56      1275\n",
      "    surprise       0.77      0.83      0.80      1275\n",
      "       worry       0.42      0.24      0.30      1276\n",
      "\n",
      "    accuracy                           0.77     16579\n",
      "   macro avg       0.75      0.77      0.76     16579\n",
      "weighted avg       0.75      0.77      0.76     16579\n",
      "\n"
     ]
    }
   ],
   "source": [
    "# Evaluate model\n",
    "from sklearn.metrics import f1_score, classification_report\n",
    "import numpy as np\n",
    "\n",
    "y_val_pred = np.argmax(model.predict(X_val_pad), axis=-1)\n",
    "f1 = f1_score(y_val, y_val_pred, average='weighted')\n",
    "print(f\"Weighted F1-score: {f1:.4f}\")\n",
    "\n",
    "print(\"\\nClassification Report:\")\n",
    "print(classification_report(y_val, y_val_pred, target_names=le.classes_))"
   ]
  },
  {
   "cell_type": "code",
   "execution_count": 11,
   "id": "bb732596-6e9d-4d0a-840e-db58e0b4a7e0",
   "metadata": {},
   "outputs": [
    {
     "name": "stdout",
     "output_type": "stream",
     "text": [
      "Model saved successfully!\n"
     ]
    }
   ],
   "source": [
    "model.save(\"Best_model1.keras\")\n",
    "print(\"Model saved successfully!\")"
   ]
  },
  {
   "cell_type": "code",
   "execution_count": 12,
   "id": "d174e1b8-0146-4f56-923e-c66e67ad4cc5",
   "metadata": {},
   "outputs": [],
   "source": [
    "import pickle\n",
    "\n",
    "# Save tokenizer\n",
    "with open('BestTokenizer1.pkl', 'wb') as f:\n",
    "    pickle.dump(tokenizer, f)\n",
    "\n",
    "# Save label encoder\n",
    "with open('BestLabelEncoder.pkl', 'wb') as f:\n",
    "    pickle.dump(le, f)"
   ]
  },
  {
   "cell_type": "code",
   "execution_count": 13,
   "id": "f8ab0435-ac2f-48bb-b82d-e8da937629b6",
   "metadata": {},
   "outputs": [
    {
     "name": "stdout",
     "output_type": "stream",
     "text": [
      "\u001b[1m519/519\u001b[0m \u001b[32m━━━━━━━━━━━━━━━━━━━━\u001b[0m\u001b[37m\u001b[0m \u001b[1m29s\u001b[0m 56ms/step\n",
      "Test Set Performance:\n",
      "\n",
      "              precision    recall  f1-score   support\n",
      "\n",
      "       anger       0.99      1.00      1.00      1275\n",
      "     boredom       0.99      1.00      1.00      1275\n",
      "       empty       0.90      0.99      0.94      1275\n",
      "  enthusiasm       0.94      0.99      0.96      1276\n",
      "         fun       0.84      0.92      0.88      1276\n",
      "   happiness       0.54      0.57      0.56      1275\n",
      "        hate       0.91      0.97      0.94      1276\n",
      "        love       0.69      0.72      0.70      1275\n",
      "     neutral       0.43      0.29      0.35      1275\n",
      "      relief       0.84      0.93      0.88      1275\n",
      "     sadness       0.53      0.60      0.56      1276\n",
      "    surprise       0.80      0.84      0.82      1275\n",
      "       worry       0.42      0.24      0.30      1275\n",
      "\n",
      "    accuracy                           0.77     16579\n",
      "   macro avg       0.75      0.77      0.76     16579\n",
      "weighted avg       0.75      0.77      0.76     16579\n",
      "\n"
     ]
    }
   ],
   "source": [
    "from sklearn.metrics import classification_report\n",
    "\n",
    "# Predict on test set\n",
    "y_test_pred = np.argmax(model.predict(X_test_pad), axis=-1)\n",
    "\n",
    "# Print classification report\n",
    "print(\"Test Set Performance:\\n\")\n",
    "print(classification_report(y_test, y_test_pred, target_names=le.classes_))\n"
   ]
  },
  {
   "cell_type": "code",
   "execution_count": 15,
   "id": "74435973-02d1-4093-935d-e3a6eb7b3f4f",
   "metadata": {},
   "outputs": [
    {
     "name": "stdout",
     "output_type": "stream",
     "text": [
      "Weighted F1-score (Test Set): 0.7612\n"
     ]
    }
   ],
   "source": [
    "# Calculate weighted F1-score\n",
    "f1 = f1_score(y_test, y_test_pred, average='weighted')\n",
    "print(f\"Weighted F1-score (Test Set): {f1:.4f}\")"
   ]
  }
 ],
 "metadata": {
  "kernelspec": {
   "display_name": "Python 3 (ipykernel)",
   "language": "python",
   "name": "python3"
  },
  "language_info": {
   "codemirror_mode": {
    "name": "ipython",
    "version": 3
   },
   "file_extension": ".py",
   "mimetype": "text/x-python",
   "name": "python",
   "nbconvert_exporter": "python",
   "pygments_lexer": "ipython3",
   "version": "3.11.7"
  }
 },
 "nbformat": 4,
 "nbformat_minor": 5
}
